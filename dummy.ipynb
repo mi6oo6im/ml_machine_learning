{
 "cells": [
  {
   "cell_type": "code",
   "execution_count": 1,
   "metadata": {},
   "outputs": [
    {
     "name": "stdout",
     "output_type": "stream",
     "text": [
      "{'Matplotlib (matplotlib)', 'WordCloud (wordcloud)', 'HuggingFace Transformers (transformers)', 'FastText (fasttext)', 'Numpy (numpy)', 'SMOTE (imblearn.over_sampling.SMOTE)', 'GloVe (glove-python)', 'Keras API (tensorflow.keras)', 'NLTK (nltk)', 'Seaborn (seaborn)', 'Keras (tensorflow.keras)', 'TQDM (tqdm)', 'TensorFlow (tensorflow)', 'Pandas (pandas)', 'Scikit-learn (sklearn)'}\n"
     ]
    }
   ],
   "source": [
    "print(set(['Numpy (numpy)','Pandas (pandas)','Matplotlib (matplotlib)','Seaborn (seaborn)','Scikit-learn (sklearn)','Seaborn (seaborn)','Numpy (numpy)','Pandas (pandas)','Scikit-learn (sklearn)','Pandas (pandas)','Numpy (numpy)','Scikit-learn (sklearn)','TensorFlow (tensorflow)','Keras API (tensorflow.keras)','Numpy (numpy)','Scikit-learn (sklearn)','NLTK (nltk)','Numpy (numpy)','Scikit-learn (sklearn)','Keras (tensorflow.keras)','HuggingFace Transformers (transformers)','SMOTE (imblearn.over_sampling.SMOTE)' ,'TQDM (tqdm)','FastText (fasttext)','GloVe (glove-python)','WordCloud (wordcloud)']))"
   ]
  }
 ],
 "metadata": {
  "kernelspec": {
   "display_name": "base",
   "language": "python",
   "name": "python3"
  },
  "language_info": {
   "codemirror_mode": {
    "name": "ipython",
    "version": 3
   },
   "file_extension": ".py",
   "mimetype": "text/x-python",
   "name": "python",
   "nbconvert_exporter": "python",
   "pygments_lexer": "ipython3",
   "version": "3.11.7"
  }
 },
 "nbformat": 4,
 "nbformat_minor": 2
}
